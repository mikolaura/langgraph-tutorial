{
 "cells": [
  {
   "cell_type": "code",
   "execution_count": 1,
   "id": "136e5aee",
   "metadata": {},
   "outputs": [],
   "source": [
    "from typing import TypedDict\n",
    "from langgraph.graph import StateGraph, START, END"
   ]
  },
  {
   "cell_type": "code",
   "execution_count": 2,
   "id": "38d3928e",
   "metadata": {},
   "outputs": [],
   "source": [
    "class AgentState(TypedDict):\n",
    "    number1: int\n",
    "    operation: str\n",
    "    number2: int\n",
    "    finalNumber: int"
   ]
  },
  {
   "cell_type": "code",
   "execution_count": 3,
   "id": "23c48f8c",
   "metadata": {},
   "outputs": [],
   "source": [
    "def adder(state: AgentState) -> AgentState:\n",
    "    \"\"\"This node adds 2 numbers\"\"\"\n",
    "    state['finalNumber'] = state['number1']+ state['number2']\n",
    "    return state\n",
    "\n",
    "def subtractor(state: AgentState) -> AgentState:\n",
    "    \"\"\"This node subtracts 2 numbers\"\"\"\n",
    "    state['finalNumber'] = state['number1']-state['number2']\n",
    "    return state\n",
    "\n",
    "def router(state: AgentState):\n",
    "    \"\"\"Route\"\"\"\n",
    "    if state['operation'] == \"+\":\n",
    "        return 'additon'\n",
    "    else:\n",
    "        return \"subtraction\"\n"
   ]
  },
  {
   "cell_type": "code",
   "execution_count": 6,
   "id": "bcfc522c",
   "metadata": {},
   "outputs": [],
   "source": [
    "workflow = StateGraph(AgentState)\n",
    "\n",
    "workflow.add_node('router', lambda state:state)\n",
    "workflow.add_node('subtraction', subtractor)\n",
    "workflow.add_node('additon', adder)\n",
    "workflow.add_edge(START, \"router\")\n",
    "workflow.add_conditional_edges(\n",
    "    'router',\n",
    "    router,\n",
    "    {\n",
    "        # Edge: Node\n",
    "        \"additon\": \"additon\",\n",
    "        \"subtraction\": \"subtraction\"\n",
    "    }\n",
    "    \n",
    ")\n",
    "workflow.add_edge('additon', END)\n",
    "workflow.add_edge(\"subtraction\", END)\n",
    "\n",
    "\n",
    "app = workflow.compile()"
   ]
  },
  {
   "cell_type": "code",
   "execution_count": 7,
   "id": "a7e5a2d9",
   "metadata": {},
   "outputs": [
    {
     "data": {
      "image/png": "[encoded data removed]",
      "text/plain": [
       "<IPython.core.display.Image object>"
      ]
     },
     "execution_count": 7,
     "metadata": {},
     "output_type": "execute_result"
    }
   ],
   "source": [
    "from IPython.display import Image\n",
    "Image(app.get_graph().draw_mermaid_png())"
   ]
  },
  {
   "cell_type": "code",
   "execution_count": null,
   "id": "468ac273",
   "metadata": {},
   "outputs": [],
   "source": []
  }
 ],
 "metadata": {
  "kernelspec": {
   "display_name": ".venv",
   "language": "python",
   "name": "python3"
  },
  "language_info": {
   "codemirror_mode": {
    "name": "ipython",
    "version": 3
   },
   "file_extension": ".py",
   "mimetype": "text/x-python",
   "name": "python",
   "nbconvert_exporter": "python",
   "pygments_lexer": "ipython3",
   "version": "3.13.5"
  }
 },
 "nbformat": 4,
 "nbformat_minor": 5
}
