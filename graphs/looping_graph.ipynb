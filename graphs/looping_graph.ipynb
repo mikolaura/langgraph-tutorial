{
 "cells": [
  {
   "cell_type": "code",
   "execution_count": 1,
   "id": "cdc650cd",
   "metadata": {},
   "outputs": [],
   "source": [
    "from langgraph.graph import StateGraph, END\n",
    "import random\n",
    "from typing import Dict, List, TypedDict"
   ]
  },
  {
   "cell_type": "code",
   "execution_count": 31,
   "id": "5af037a9",
   "metadata": {},
   "outputs": [],
   "source": [
    "class AgentState(TypedDict):\n",
    "    name: str\n",
    "    numbers: List[int]\n",
    "    counter: int"
   ]
  },
  {
   "cell_type": "code",
   "execution_count": 32,
   "id": "e945ceb4",
   "metadata": {},
   "outputs": [],
   "source": [
    "def greeting_node(state: AgentState)-> AgentState:\n",
    "    \"\"\"Greeting Node which says hi to the person\"\"\"\n",
    "    state['name'] = f\"Hi there, {state['name']}\"\n",
    "    state['counter'] = 0\n",
    "    return state\n",
    "\n",
    "def random_node(state: AgentState) -> AgentState:\n",
    "    \"\"\"Generate a random number from 0 to 10\"\"\"\n",
    "    state['numbers'].append(random.randint(0, 10))\n",
    "    state['counter'] += 1\n",
    "    return state\n",
    "def should_continue(state: AgentState) -> AgentState:\n",
    "    if state['counter'] < 5:\n",
    "        print(\"ENTERING LOOP\", state['counter'])\n",
    "        return \"loop\"\n",
    "    else:\n",
    "        return \"exit\""
   ]
  },
  {
   "cell_type": "code",
   "execution_count": 33,
   "id": "531975a1",
   "metadata": {},
   "outputs": [],
   "source": [
    "workflow = StateGraph(AgentState)\n",
    "\n",
    "workflow.add_node('greetting', greeting_node)\n",
    "workflow.add_node('random_node', random_node)\n",
    "workflow.set_entry_point('greetting')\n",
    "workflow.add_edge('greetting', \"random_node\")\n",
    "workflow.add_conditional_edges(\"random_node\",\n",
    "                               should_continue,\n",
    "                               {\n",
    "                                   \"loop\": \"random_node\",\n",
    "                                   \"exit\" :END\n",
    "                               })\n",
    "app = workflow.compile()\n"
   ]
  },
  {
   "cell_type": "code",
   "execution_count": 34,
   "id": "fe5cbff4",
   "metadata": {},
   "outputs": [
    {
     "data": {
      "image/png": "[encoded data removed]",
      "text/plain": [
       "<IPython.core.display.Image object>"
      ]
     },
     "execution_count": 34,
     "metadata": {},
     "output_type": "execute_result"
    }
   ],
   "source": [
    "Image(app.get_graph().draw_mermaid_png())"
   ]
  },
  {
   "cell_type": "code",
   "execution_count": 35,
   "id": "29abc496",
   "metadata": {},
   "outputs": [
    {
     "name": "stdout",
     "output_type": "stream",
     "text": [
      "ENTERING LOOP 1\n",
      "ENTERING LOOP 2\n",
      "ENTERING LOOP 3\n",
      "ENTERING LOOP 4\n"
     ]
    },
    {
     "data": {
      "text/plain": [
       "{'name': 'Hi there, Yurii', 'numbers': [4, 8, 2, 0, 3], 'counter': 5}"
      ]
     },
     "execution_count": 35,
     "metadata": {},
     "output_type": "execute_result"
    }
   ],
   "source": [
    "app.invoke({\"name\": \"Yurii\", \"numbers\": [], \"counter\":-1})"
   ]
  },
  {
   "cell_type": "markdown",
   "id": "0ae5972c",
   "metadata": {},
   "source": [
    "# Exercise"
   ]
  },
  {
   "cell_type": "code",
   "execution_count": 73,
   "id": "665340f7",
   "metadata": {},
   "outputs": [],
   "source": [
    "class AgentState(TypedDict):\n",
    "    player_name: str\n",
    "    guesses: List[int]\n",
    "    attemtps: int\n",
    "    lower_bound: int\n",
    "    upper_bound: int\n",
    "    number: int"
   ]
  },
  {
   "cell_type": "code",
   "execution_count": 74,
   "id": "28a7b34e",
   "metadata": {},
   "outputs": [],
   "source": [
    "def setup(state: AgentState) -> AgentState:\n",
    "    state['player_name'] = f\"Hi, {state['player_name']}\"\n",
    "    state['lower_bound'] = 1\n",
    "    state['upper_bound'] = 20\n",
    "    state['number'] = random.randint(state['lower_bound'], state['upper_bound'])\n",
    "    state['attemtps'] = 0\n",
    "    state['guesses'] = []\n",
    "    print(\"I'm starting thinking for number from 1 - 20\")\n",
    "    return state\n",
    "\n",
    "def guess(state: AgentState) -> AgentState:\n",
    "    possible_guesses = [i for i in range(state[\"lower_bound\"], state[\"upper_bound\"] + 1) if i not in state[\"guesses\"]]\n",
    "    if possible_guesses:\n",
    "        guess = random.choice(possible_guesses)\n",
    "    else:\n",
    "        \n",
    "        guess = random.randint(state[\"lower_bound\"], state[\"upper_bound\"])\n",
    "    state[\"guesses\"].append(guess)\n",
    "    state[\"attemtps\"] += 1\n",
    "    return state\n",
    "\n",
    "def get_hint(state: AgentState) -> AgentState:\n",
    "    last_guess = state['guesses'][-1]\n",
    "    target_number = state['number']\n",
    "    if last_guess < target_number:\n",
    "        state['lower_bound'] = last_guess\n",
    "    elif last_guess > target_number:\n",
    "        state['upper_bound'] = last_guess\n",
    "    else:\n",
    "        print(f\"Success! Correct you found the number {target_number} in {state['attemtps']} attempts.\")\n",
    "    return state\n",
    "    "
   ]
  },
  {
   "cell_type": "code",
   "execution_count": 75,
   "id": "5b960d5a",
   "metadata": {},
   "outputs": [],
   "source": [
    "def should_continue(state: AgentState) -> str:\n",
    "    last_guess = state['guesses'][-1]\n",
    "    target_number = state['number']\n",
    "    if last_guess == target_number:\n",
    "        print(f\"YOU WON! Your number was {target_number} and you use {state['attemtps']} attempts\")\n",
    "        return \"end\"\n",
    "    elif state['attemtps'] >= 7:\n",
    "        print(f\"GAME OVER: Maximum attempts reached! The number was {target_number}\")\n",
    "        return \"end\"\n",
    "    else:\n",
    "        print(f\"CONTINU\")\n",
    "        print(f\"CONTINUING: {state['attemtps']}/7 attempts used\")\n",
    "        return \"continue\""
   ]
  },
  {
   "cell_type": "code",
   "execution_count": 76,
   "id": "2c03efe4",
   "metadata": {},
   "outputs": [],
   "source": [
    "workflow = StateGraph(AgentState)\n",
    "\n",
    "workflow.add_node(\"setup\", setup)\n",
    "workflow.add_node('guess', guess)\n",
    "workflow.add_node('hint_node', get_hint)\n",
    "workflow.set_entry_point(\"setup\")\n",
    "workflow.add_edge(\"setup\", \"guess\")\n",
    "workflow.add_edge(\"guess\", \"hint_node\")\n",
    "workflow.add_conditional_edges(\"hint_node\",\n",
    "                               should_continue,\n",
    "                               {\n",
    "                                   \"end\": END,\n",
    "                                   \"continue\": \"guess\"\n",
    "                               })\n",
    "\n",
    "app = workflow.compile()"
   ]
  },
  {
   "cell_type": "code",
   "execution_count": 89,
   "id": "8357e190",
   "metadata": {},
   "outputs": [
    {
     "name": "stdout",
     "output_type": "stream",
     "text": [
      "I'm starting thinking for number from 1 - 20\n",
      "Success! Correct you found the number 11 in 1 attempts.\n",
      "YOU WON! Your number was 11 and you use 1 attempts\n"
     ]
    },
    {
     "data": {
      "text/plain": [
       "{'player_name': 'Hi, Student',\n",
       " 'guesses': [11],\n",
       " 'attemtps': 1,\n",
       " 'lower_bound': 1,\n",
       " 'upper_bound': 20,\n",
       " 'number': 11}"
      ]
     },
     "execution_count": 89,
     "metadata": {},
     "output_type": "execute_result"
    }
   ],
   "source": [
    "result = app.invoke({\"player_name\": \"Student\", \"guesses\": [], \"attempts\": 0, \"lower_bound\": 1, \"upper_bound\": 20})\n",
    "result"
   ]
  },
  {
   "cell_type": "code",
   "execution_count": null,
   "id": "003e6694",
   "metadata": {},
   "outputs": [],
   "source": []
  },
  {
   "cell_type": "code",
   "execution_count": null,
   "id": "52d4729b",
   "metadata": {},
   "outputs": [],
   "source": []
  }
 ],
 "metadata": {
  "kernelspec": {
   "display_name": ".venv",
   "language": "python",
   "name": "python3"
  },
  "language_info": {
   "codemirror_mode": {
    "name": "ipython",
    "version": 3
   },
   "file_extension": ".py",
   "mimetype": "text/x-python",
   "name": "python",
   "nbconvert_exporter": "python",
   "pygments_lexer": "ipython3",
   "version": "3.13.5"
  }
 },
 "nbformat": 4,
 "nbformat_minor": 5
}
